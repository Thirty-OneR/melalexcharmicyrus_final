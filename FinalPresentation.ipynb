{
 "cells": [
  {
   "cell_type": "markdown",
   "metadata": {
    "slideshow": {
     "slide_type": "slide"
    }
   },
   "source": [
    "## Fundamentals of Data Science: Final Presentation"
   ]
  },
  {
   "cell_type": "markdown",
   "metadata": {
    "slideshow": {
     "slide_type": "-"
    }
   },
   "source": [
    "<center><img src=\"Zoom_596.png\" alt=\"drawing\" width=\"900\"/></center>"
   ]
  },
  {
   "cell_type": "code",
   "execution_count": 11,
   "metadata": {
    "slideshow": {
     "slide_type": "skip"
    }
   },
   "outputs": [],
   "source": [
    "import pandas as pd\n",
    "import numpy as np\n",
    "import matplotlib.pyplot as plt \n",
    "import seaborn as sns\n",
    "from astropy.time import Time\n",
    "from collections import Counter\n",
    "\n",
    "sns.set_context(\"talk\")\n",
    "sns.set_style(\"white\")\n",
    "sns.set_palette(\"Dark2\")\n",
    "\n",
    "import sys\n",
    "import warnings\n",
    "\n",
    "if not sys.warnoptions:\n",
    "    warnings.simplefilter(\"ignore\")\n",
    "    \n",
    "import logging\n",
    "logger = logging.getLogger(\"pymc3\")\n",
    "logger.propagate = False"
   ]
  },
  {
   "cell_type": "markdown",
   "metadata": {
    "slideshow": {
     "slide_type": "slide"
    }
   },
   "source": [
    "*Charmi*\n",
    "## Supernovae: Why Should We Care\n",
    "<center><img src=\"SN1994D.jpg\" alt=\"drawing\" width=\"500\"/></center>\n",
    "\n",
    "\n",
    "Supernovae are coooool beans, and for that reason alone we'd want to study them. Picture here:"
   ]
  },
  {
   "cell_type": "markdown",
   "metadata": {
    "slideshow": {
     "slide_type": "subslide"
    }
   },
   "source": [
    "*Charmi*\n",
    "# Objects in this project\n",
    "\n",
    "* 2020oi - Type Ic\n",
    "* LSQ12gdj - Type Ia\n",
    "* 1987A - Type II\n",
    "* 2011fe - Type Ia\n",
    "\n",
    "Why did we choose these? We wanted a spread in data quality and types of supernovae. 1987A and 2011fe are well studied and good benchmarks. 2020oi is a newly discovered event that Alex is working on in real life*. LSQ12gdj was chosen because it is the main focus of Scalzo et. al. 2014, where the authors similarly obtain a bolometric light curve.\n",
    "\n",
    "*real life is not class."
   ]
  },
  {
   "cell_type": "markdown",
   "metadata": {
    "slideshow": {
     "slide_type": "slide"
    }
   },
   "source": [
    "*Charmi*\n",
    "\n",
    "## The Bolometric Problem\n",
    "SN emit in nearly all wavelengths, but we aren't able to take continuous spectra. \n"
   ]
  },
  {
   "cell_type": "markdown",
   "metadata": {
    "slideshow": {
     "slide_type": "fragment"
    }
   },
   "source": [
    "* Dust obscuration"
   ]
  },
  {
   "cell_type": "markdown",
   "metadata": {
    "slideshow": {
     "slide_type": "fragment"
    }
   },
   "source": [
    "* Missing some flux during rise"
   ]
  },
  {
   "cell_type": "markdown",
   "metadata": {
    "slideshow": {
     "slide_type": "fragment"
    }
   },
   "source": [
    "* Bands are discretized - UGRIZY"
   ]
  },
  {
   "cell_type": "markdown",
   "metadata": {
    "slideshow": {
     "slide_type": "fragment"
    }
   },
   "source": [
    "We need some way to estimate the amount of energy the SN puts out in all wavelengths while only measuring a few. "
   ]
  },
  {
   "cell_type": "markdown",
   "metadata": {
    "slideshow": {
     "slide_type": "slide"
    }
   },
   "source": [
    "*Cyrus*\n",
    "## Gaussian Processes to the rescue! \n",
    "(With hierarchical models to boot)"
   ]
  },
  {
   "cell_type": "markdown",
   "metadata": {
    "slideshow": {
     "slide_type": "slide"
    }
   },
   "source": [
    "*Cyrus*\n",
    "## Part I: Creating a Mean Model\n",
    "We opted for a spline of two quadratic functions. We attempted two different models: \n",
    "* Spline at maximum\n",
    "* Spline during decine "
   ]
  },
  {
   "cell_type": "markdown",
   "metadata": {},
   "source": [
    "<center><img src=\"all_mean_models.png\" alt=\"drawing\" width=\"900\"/></center>"
   ]
  },
  {
   "cell_type": "markdown",
   "metadata": {
    "slideshow": {
     "slide_type": "slide"
    }
   },
   "source": [
    "*Cyrus*\n",
    "## Part II: With George, we can condition on the data (with a squared exponential kernel) for a better fitting model. "
   ]
  },
  {
   "cell_type": "markdown",
   "metadata": {
    "slideshow": {
     "slide_type": "-"
    }
   },
   "source": [
    "<center><img src=\"all_george_models.png\" alt=\"drawing\" width=\"900\"/></center>"
   ]
  },
  {
   "cell_type": "markdown",
   "metadata": {
    "slideshow": {
     "slide_type": "slide"
    }
   },
   "source": [
    "*Melanie*\n",
    "## Part III: Gaussian Processes Implemented in PyMC3\n",
    "So that we'll be able to use a hierarchical model!"
   ]
  },
  {
   "cell_type": "markdown",
   "metadata": {
    "slideshow": {
     "slide_type": "subslide"
    }
   },
   "source": [
    "One main difference between the GPs in george and PyMC3 is that george let us make the turning point a parameter. PyMC3 did not allow booleans from parameters, so we had to manually approximate this time value."
   ]
  },
  {
   "cell_type": "markdown",
   "metadata": {},
   "source": [
    "<center><img src=\"all_pymc3_models.png\" alt=\"drawing\" width=\"900\"/></center>"
   ]
  },
  {
   "cell_type": "markdown",
   "metadata": {
    "slideshow": {
     "slide_type": "slide"
    }
   },
   "source": [
    "*Melanie*\n",
    "## Part IV: Hierarchical GPs in PyMC3\n",
    "For $N$ bands, we generate six random variables for our quadratic parameters: \n",
    "* $N$-dimensional Gaussian distributions centered on polyfit values\n",
    "* $N$ gps with same mean model, squared exponential kernel\n",
    "* Condition on low-error values"
   ]
  },
  {
   "cell_type": "markdown",
   "metadata": {
    "slideshow": {
     "slide_type": "subslide"
    }
   },
   "source": [
    "The usefulness of a hierarchical model is that our parameters for each band could be drawn from the same distribution. Doing so shrinks the variance between the parameter estimates."
   ]
  },
  {
   "cell_type": "markdown",
   "metadata": {
    "slideshow": {
     "slide_type": "subslide"
    }
   },
   "source": [
    "Other parameters for consideration were the smoothing length, noise, and the \"turn over\" time for the spline. After tweaking, we did end up drawing the kernel smoothing length from a distribution as well."
   ]
  },
  {
   "cell_type": "markdown",
   "metadata": {},
   "source": [
    "<center><img src=\"all_pymc3_allbands.png\" alt=\"drawing\" width=\"900\"/></center>"
   ]
  },
  {
   "cell_type": "markdown",
   "metadata": {
    "slideshow": {
     "slide_type": "slide"
    }
   },
   "source": [
    "*Alex*\n",
    "## Converting Posteriors to Bolometric Lightcurves\n",
    "\n",
    "* First we took the median of all posteriors in each band.\n",
    "* The error was found by taking the standard deviation of the posteriors and adding them in quadrature across the bands.\n",
    "* We used trapezoidal integration to get the bolometric flux, and from that, luminosity."
   ]
  },
  {
   "cell_type": "markdown",
   "metadata": {
    "slideshow": {
     "slide_type": "fragment"
    }
   },
   "source": [
    "To convert from bolometric flux to bolometric luminosity, we use the following relationship: \n",
    "\n",
    "$$ L_{bol} = F_{bol}  4 \\pi d_{SN}^2$$\n",
    "\n",
    "Where $d_{SN}$ is the distance to the supernova."
   ]
  },
  {
   "cell_type": "markdown",
   "metadata": {
    "slideshow": {
     "slide_type": "subslide"
    }
   },
   "source": [
    "<center><img src=\"all_luminosities.png\" alt=\"drawing\" width=\"900\"/></center>"
   ]
  },
  {
   "cell_type": "markdown",
   "metadata": {
    "slideshow": {
     "slide_type": "slide"
    }
   },
   "source": [
    "*Alex*\n",
    "## Estimating the Temperature Evolution\n",
    "\n",
    "If we assume a blackbody, then we can estimate the temperature of the supernova over time with the equation:\n",
    "\n",
    "$$\n",
    "L_{bol} = 4 \\pi R^2 \\sigma_{SB} T_{eff}^4\n",
    "$$\n",
    "\n",
    "Using this, we had to assume some radius based on the progenitor of our objects. It is important to note that the temperature here is the temperature of the photosphere (corresponding to the photosphere radius). "
   ]
  },
  {
   "cell_type": "markdown",
   "metadata": {},
   "source": [
    "<center><img src=\"all_temperatures.png\" alt=\"drawing\" width=\"900\"/></center>"
   ]
  },
  {
   "cell_type": "markdown",
   "metadata": {},
   "source": [
    "*Alex*\n",
    "## Obtaining Temperature from a Blackbody Fit\n",
    "\n",
    "Other people have made packages that estimate bolometric lightcurves (SuperBoL and superbol, for example). In superbol, they fit a blackbody curve to get temperature and radius. We did make an attempt to find temperature this way."
   ]
  },
  {
   "cell_type": "code",
   "execution_count": null,
   "metadata": {},
   "outputs": [],
   "source": [
    "<center><img src=\"all_bb_temp.png\" alt=\"drawing\" width=\"900\"/></center>"
   ]
  },
  {
   "cell_type": "markdown",
   "metadata": {
    "slideshow": {
     "slide_type": "slide"
    }
   },
   "source": [
    "*Charmi*\n",
    "## Summary\n",
    "\n",
    "Our goal was to get **temperatures** from supernova data using **Gaussian Processes** in a **hierarchical model**. To do so, we had to consult literature and our own astrophysical knowledge about what model parameters might make sense or what sources of error are important. Ta-da!"
   ]
  },
  {
   "cell_type": "code",
   "execution_count": null,
   "metadata": {},
   "outputs": [],
   "source": []
  }
 ],
 "metadata": {
  "celltoolbar": "Slideshow",
  "kernelspec": {
   "display_name": "Python [conda env:fds] *",
   "language": "python",
   "name": "conda-env-fds-py"
  },
  "language_info": {
   "codemirror_mode": {
    "name": "ipython",
    "version": 3
   },
   "file_extension": ".py",
   "mimetype": "text/x-python",
   "name": "python",
   "nbconvert_exporter": "python",
   "pygments_lexer": "ipython3",
   "version": "3.7.7"
  }
 },
 "nbformat": 4,
 "nbformat_minor": 4
}
