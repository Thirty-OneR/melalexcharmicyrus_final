{
 "cells": [
  {
   "cell_type": "code",
   "execution_count": 34,
   "metadata": {},
   "outputs": [],
   "source": [
    "import numpy as np\n",
    "import matplotlib.pyplot as plt\n",
    "import pandas as pd"
   ]
  },
  {
   "cell_type": "code",
   "execution_count": 35,
   "metadata": {},
   "outputs": [],
   "source": [
    "data=pd.read_csv('2011fe_photometry.csv')"
   ]
  },
  {
   "cell_type": "code",
   "execution_count": 36,
   "metadata": {},
   "outputs": [
    {
     "data": {
      "text/plain": [
       "array(['g', \"g'\", 'UVW1', 'U', 'B', 'UVW2', 'V', 'UVM2', 'I', 'R', 'r',\n",
       "       'Rc', 'Ic', 'H', 'K', 'J', '1', '2', 'I1', 'I2'], dtype=object)"
      ]
     },
     "execution_count": 36,
     "metadata": {},
     "output_type": "execute_result"
    }
   ],
   "source": [
    "data['band'].unique()"
   ]
  },
  {
   "cell_type": "code",
   "execution_count": 37,
   "metadata": {},
   "outputs": [],
   "source": [
    "band=data[data['band']=='B']\n",
    "band=band[band['e_magnitude']<=0.1]\n",
    "\n",
    "#band['source'].unique()\n",
    "\n",
    "#band=band[band['source']=='2013CoSka..43...94T,Sternberg Astronomical Institute Supernova Light Curve Catalogue']"
   ]
  },
  {
   "cell_type": "code",
   "execution_count": 38,
   "metadata": {},
   "outputs": [
    {
     "data": {
      "text/html": [
       "<div>\n",
       "<style scoped>\n",
       "    .dataframe tbody tr th:only-of-type {\n",
       "        vertical-align: middle;\n",
       "    }\n",
       "\n",
       "    .dataframe tbody tr th {\n",
       "        vertical-align: top;\n",
       "    }\n",
       "\n",
       "    .dataframe thead th {\n",
       "        text-align: right;\n",
       "    }\n",
       "</style>\n",
       "<table border=\"1\" class=\"dataframe\">\n",
       "  <thead>\n",
       "    <tr style=\"text-align: right;\">\n",
       "      <th></th>\n",
       "      <th>event</th>\n",
       "      <th>time</th>\n",
       "      <th>magnitude</th>\n",
       "      <th>e_magnitude</th>\n",
       "      <th>upperlimit</th>\n",
       "      <th>band</th>\n",
       "      <th>instrument</th>\n",
       "      <th>telescope</th>\n",
       "      <th>source</th>\n",
       "    </tr>\n",
       "  </thead>\n",
       "  <tbody>\n",
       "    <tr>\n",
       "      <th>105</th>\n",
       "      <td>SN2011fe</td>\n",
       "      <td>55797.9261</td>\n",
       "      <td>15.585</td>\n",
       "      <td>0.052</td>\n",
       "      <td>F</td>\n",
       "      <td>B</td>\n",
       "      <td>UVOT</td>\n",
       "      <td>Swift</td>\n",
       "      <td>2014Ap&amp;SS.354...89B</td>\n",
       "    </tr>\n",
       "    <tr>\n",
       "      <th>111</th>\n",
       "      <td>SN2011fe</td>\n",
       "      <td>55797.9930</td>\n",
       "      <td>15.427</td>\n",
       "      <td>0.048</td>\n",
       "      <td>F</td>\n",
       "      <td>B</td>\n",
       "      <td>UVOT</td>\n",
       "      <td>Swift</td>\n",
       "      <td>2014Ap&amp;SS.354...89B</td>\n",
       "    </tr>\n",
       "    <tr>\n",
       "      <th>116</th>\n",
       "      <td>SN2011fe</td>\n",
       "      <td>55798.1700</td>\n",
       "      <td>15.206</td>\n",
       "      <td>0.016</td>\n",
       "      <td>F</td>\n",
       "      <td>B</td>\n",
       "      <td>NaN</td>\n",
       "      <td>kait4</td>\n",
       "      <td>2012MNRAS.425.1789S</td>\n",
       "    </tr>\n",
       "    <tr>\n",
       "      <th>129</th>\n",
       "      <td>SN2011fe</td>\n",
       "      <td>55798.8500</td>\n",
       "      <td>14.330</td>\n",
       "      <td>0.030</td>\n",
       "      <td>F</td>\n",
       "      <td>B</td>\n",
       "      <td>NaN</td>\n",
       "      <td>NaN</td>\n",
       "      <td>2013CoSka..43...94T,Sternberg Astronomical Ins...</td>\n",
       "    </tr>\n",
       "    <tr>\n",
       "      <th>133</th>\n",
       "      <td>SN2011fe</td>\n",
       "      <td>55798.8800</td>\n",
       "      <td>14.360</td>\n",
       "      <td>0.030</td>\n",
       "      <td>F</td>\n",
       "      <td>B</td>\n",
       "      <td>NaN</td>\n",
       "      <td>NaN</td>\n",
       "      <td>2013CoSka..43...94T,Sternberg Astronomical Ins...</td>\n",
       "    </tr>\n",
       "    <tr>\n",
       "      <th>...</th>\n",
       "      <td>...</td>\n",
       "      <td>...</td>\n",
       "      <td>...</td>\n",
       "      <td>...</td>\n",
       "      <td>...</td>\n",
       "      <td>...</td>\n",
       "      <td>...</td>\n",
       "      <td>...</td>\n",
       "      <td>...</td>\n",
       "    </tr>\n",
       "    <tr>\n",
       "      <th>3378</th>\n",
       "      <td>SN2011fe</td>\n",
       "      <td>56152.8000</td>\n",
       "      <td>17.920</td>\n",
       "      <td>0.080</td>\n",
       "      <td>F</td>\n",
       "      <td>B</td>\n",
       "      <td>NaN</td>\n",
       "      <td>NaN</td>\n",
       "      <td>2013CoSka..43...94T,Sternberg Astronomical Ins...</td>\n",
       "    </tr>\n",
       "    <tr>\n",
       "      <th>3391</th>\n",
       "      <td>SN2011fe</td>\n",
       "      <td>56154.7600</td>\n",
       "      <td>17.690</td>\n",
       "      <td>0.050</td>\n",
       "      <td>F</td>\n",
       "      <td>B</td>\n",
       "      <td>NaN</td>\n",
       "      <td>NaN</td>\n",
       "      <td>2013CoSka..43...94T,Sternberg Astronomical Ins...</td>\n",
       "    </tr>\n",
       "    <tr>\n",
       "      <th>3446</th>\n",
       "      <td>SN2011fe</td>\n",
       "      <td>56193.7300</td>\n",
       "      <td>18.160</td>\n",
       "      <td>0.050</td>\n",
       "      <td>F</td>\n",
       "      <td>B</td>\n",
       "      <td>NaN</td>\n",
       "      <td>NaN</td>\n",
       "      <td>2013CoSka..43...94T,Sternberg Astronomical Ins...</td>\n",
       "    </tr>\n",
       "    <tr>\n",
       "      <th>3451</th>\n",
       "      <td>SN2011fe</td>\n",
       "      <td>56198.7000</td>\n",
       "      <td>18.300</td>\n",
       "      <td>0.080</td>\n",
       "      <td>F</td>\n",
       "      <td>B</td>\n",
       "      <td>NaN</td>\n",
       "      <td>NaN</td>\n",
       "      <td>2013CoSka..43...94T,Sternberg Astronomical Ins...</td>\n",
       "    </tr>\n",
       "    <tr>\n",
       "      <th>3460</th>\n",
       "      <td>SN2011fe</td>\n",
       "      <td>56250.1100</td>\n",
       "      <td>19.380</td>\n",
       "      <td>0.060</td>\n",
       "      <td>F</td>\n",
       "      <td>B</td>\n",
       "      <td>NaN</td>\n",
       "      <td>NaN</td>\n",
       "      <td>2013CoSka..43...94T,Sternberg Astronomical Ins...</td>\n",
       "    </tr>\n",
       "  </tbody>\n",
       "</table>\n",
       "<p>505 rows × 9 columns</p>\n",
       "</div>"
      ],
      "text/plain": [
       "         event        time  magnitude  e_magnitude upperlimit band instrument  \\\n",
       "105   SN2011fe  55797.9261     15.585        0.052          F    B       UVOT   \n",
       "111   SN2011fe  55797.9930     15.427        0.048          F    B       UVOT   \n",
       "116   SN2011fe  55798.1700     15.206        0.016          F    B        NaN   \n",
       "129   SN2011fe  55798.8500     14.330        0.030          F    B        NaN   \n",
       "133   SN2011fe  55798.8800     14.360        0.030          F    B        NaN   \n",
       "...        ...         ...        ...          ...        ...  ...        ...   \n",
       "3378  SN2011fe  56152.8000     17.920        0.080          F    B        NaN   \n",
       "3391  SN2011fe  56154.7600     17.690        0.050          F    B        NaN   \n",
       "3446  SN2011fe  56193.7300     18.160        0.050          F    B        NaN   \n",
       "3451  SN2011fe  56198.7000     18.300        0.080          F    B        NaN   \n",
       "3460  SN2011fe  56250.1100     19.380        0.060          F    B        NaN   \n",
       "\n",
       "     telescope                                             source  \n",
       "105      Swift                                2014Ap&SS.354...89B  \n",
       "111      Swift                                2014Ap&SS.354...89B  \n",
       "116      kait4                                2012MNRAS.425.1789S  \n",
       "129        NaN  2013CoSka..43...94T,Sternberg Astronomical Ins...  \n",
       "133        NaN  2013CoSka..43...94T,Sternberg Astronomical Ins...  \n",
       "...        ...                                                ...  \n",
       "3378       NaN  2013CoSka..43...94T,Sternberg Astronomical Ins...  \n",
       "3391       NaN  2013CoSka..43...94T,Sternberg Astronomical Ins...  \n",
       "3446       NaN  2013CoSka..43...94T,Sternberg Astronomical Ins...  \n",
       "3451       NaN  2013CoSka..43...94T,Sternberg Astronomical Ins...  \n",
       "3460       NaN  2013CoSka..43...94T,Sternberg Astronomical Ins...  \n",
       "\n",
       "[505 rows x 9 columns]"
      ]
     },
     "execution_count": 38,
     "metadata": {},
     "output_type": "execute_result"
    }
   ],
   "source": [
    "band"
   ]
  },
  {
   "cell_type": "code",
   "execution_count": 39,
   "metadata": {},
   "outputs": [
    {
     "data": {
      "text/plain": [
       "<matplotlib.collections.PathCollection at 0x13423d650>"
      ]
     },
     "execution_count": 39,
     "metadata": {},
     "output_type": "execute_result"
    },
    {
     "data": {
      "image/png": "[encoded data removed]",
      "text/plain": [
       "<Figure size 432x288 with 1 Axes>"
      ]
     },
     "metadata": {
      "needs_background": "light"
     },
     "output_type": "display_data"
    }
   ],
   "source": [
    "plt.scatter(band['time'],band['magnitude'],marker='.')\n"
   ]
  },
  {
   "cell_type": "code",
   "execution_count": 40,
   "metadata": {},
   "outputs": [],
   "source": [
    "\n",
    "from george.modeling import Model\n",
    "class MeanModel(Model):\n",
    "    parameter_names=('a1','b1','c1','a2','b2','c2','tsep')\n",
    "    \n",
    "    def get_value(self,t):\n",
    "        flux=np.zeros(len(t))\n",
    "        \n",
    "        ind =np.argmin(np.abs(t-self.tsep))\n",
    "        \n",
    "        flux[0:ind]=self.a1*t[0:ind]**2+self.b1*t[0:ind]+self.c1\n",
    "        flux[ind:]=self.a2*t[ind:]**2+self.b2*t[ind:]+self.c2\n",
    "        \n",
    "        return flux"
   ]
  },
  {
   "cell_type": "code",
   "execution_count": 41,
   "metadata": {},
   "outputs": [],
   "source": [
    "from george import kernels\n",
    "\n",
    "kernel=kernels.ExpSquaredKernel(50.0)\n"
   ]
  },
  {
   "cell_type": "code",
   "execution_count": 42,
   "metadata": {},
   "outputs": [
    {
     "data": {
      "text/plain": [
       "166"
      ]
     },
     "execution_count": 42,
     "metadata": {},
     "output_type": "execute_result"
    }
   ],
   "source": [
    "np.argmin(np.abs(band['time']-55840))"
   ]
  },
  {
   "cell_type": "code",
   "execution_count": 43,
   "metadata": {},
   "outputs": [],
   "source": [
    "a10,b10,c10=np.polyfit(band['time'][0:165],band['magnitude'][0:165],deg=2)"
   ]
  },
  {
   "cell_type": "code",
   "execution_count": 44,
   "metadata": {},
   "outputs": [],
   "source": [
    "a20,b20,c20=np.polyfit(band['time'][165:],band['magnitude'][165:],deg=2)"
   ]
  },
  {
   "cell_type": "code",
   "execution_count": 45,
   "metadata": {},
   "outputs": [
    {
     "data": {
      "text/plain": [
       "[<matplotlib.lines.Line2D at 0x13421d1d0>]"
      ]
     },
     "execution_count": 45,
     "metadata": {},
     "output_type": "execute_result"
    },
    {
     "data": {
      "image/png": "[encoded data removed]",
      "text/plain": [
       "<Figure size 432x288 with 1 Axes>"
      ]
     },
     "metadata": {
      "needs_background": "light"
     },
     "output_type": "display_data"
    }
   ],
   "source": [
    "plt.scatter(band['time'],band['magnitude'],marker='.')\n",
    "\n",
    "plt.plot(band['time'][0:165],a10*band['time'][0:165]**2+b10*band['time'][0:165]+c10,'r')\n",
    "\n",
    "plt.plot(band['time'][165:],a20*band['time'][165:]**2+b20*band['time'][165:]+c20,'k')"
   ]
  },
  {
   "cell_type": "code",
   "execution_count": 46,
   "metadata": {},
   "outputs": [],
   "source": [
    "def lnprob(p):\n",
    "    model.set_parameter_vector(p) \n",
    "    return -model.lnlikelihood(band[\"magnitude\"], quiet=True)"
   ]
  },
  {
   "cell_type": "code",
   "execution_count": 47,
   "metadata": {},
   "outputs": [],
   "source": [
    "import scipy.optimize as op\n",
    "import george\n",
    "#model = george.GP(kernel=kernel,mean=m0)\n",
    "global model\n",
    "\n",
    "tsep0=55840\n",
    "\n",
    "model = george.GP(kernel = kernel, mean = MeanModel(a10,b10,c10,a20,b20,c20,tsep0))\n",
    "\n",
    "model.compute(band[\"time\"])\n",
    "\n",
    "p0 = model.get_parameter_vector()\n",
    "results = op.minimize(lnprob, p0, method=\"L-BFGS-B\")\n",
    "\n",
    "t_new = np.linspace(np.min(band['time']),np.max(band['time']), len(band['time']))\n",
    "\n",
    "ypred,cov= model.predict(band['magnitude'], t_new)\n"
   ]
  },
  {
   "cell_type": "code",
   "execution_count": 48,
   "metadata": {},
   "outputs": [
    {
     "data": {
      "text/plain": [
       "<matplotlib.collections.PathCollection at 0x12ec38c50>"
      ]
     },
     "execution_count": 48,
     "metadata": {},
     "output_type": "execute_result"
    },
    {
     "data": {
      "image/png": "[encoded data removed]",
      "text/plain": [
       "<Figure size 432x288 with 1 Axes>"
      ]
     },
     "metadata": {
      "needs_background": "light"
     },
     "output_type": "display_data"
    }
   ],
   "source": [
    "plt.plot(t_new[0:250],ypred[0:250],c='r',ls='-.')\n",
    "plt.scatter(band['time'][0:400],band['magnitude'][0:400],marker='.')"
   ]
  },
  {
   "cell_type": "code",
   "execution_count": 49,
   "metadata": {},
   "outputs": [],
   "source": [
    "import numpy as np\n",
    "import pandas as pd\n",
    "import pymc3 as pm\n",
    "import matplotlib.pyplot as plt\n",
    "import theano.tensor as tt"
   ]
  },
  {
   "cell_type": "code",
   "execution_count": 50,
   "metadata": {},
   "outputs": [],
   "source": [
    "time = band['time'][0:400]\n",
    "mag = band['magnitude'][0:400]"
   ]
  },
  {
   "cell_type": "code",
   "execution_count": 51,
   "metadata": {},
   "outputs": [],
   "source": [
    "class MeanModel(pm.gp.mean.Mean):\n",
    "    def __init__(self, a1, b1, c1, a2, b2, c2):#, tsep):\n",
    "        self.a1 = a1\n",
    "        self.b1 = b1\n",
    "        self.c1 = c1\n",
    "        self.a2 = a2\n",
    "        self.b2 = b2\n",
    "        self.c2 = c2\n",
    "        #self.tsep = tsep\n",
    "    def __call__(self, t):\n",
    "        \n",
    "       # ind=np.argmin(np.abs(t-self.tsep))\n",
    "        \n",
    "        time1 = t[t <= tsep0]\n",
    "        time2 = t[t > tsep0]\n",
    "        mag1 = self.a1*time1**2 + self.b1*time1 + self.c1\n",
    "        mag2 = self.a2*time2**2 + self.b2*time2 + self.c2\n",
    "        mean = tt.concatenate([mag1,mag2])\n",
    "        return mean"
   ]
  },
  {
   "cell_type": "code",
   "execution_count": 59,
   "metadata": {},
   "outputs": [
    {
     "name": "stderr",
     "output_type": "stream",
     "text": [
      "/usr/local/lib/python3.7/site-packages/theano/tensor/basic.py:6611: FutureWarning: Using a non-tuple sequence for multidimensional indexing is deprecated; use `arr[tuple(seq)]` instead of `arr[seq]`. In the future this will be interpreted as an array index, `arr[np.array(seq)]`, which will result either in an error or a different result.\n",
      "  result[diagonal_slice] = x\n",
      "logp = -inf, ||grad|| = 2.2984e+11: 100%|██████████| 4/4 [00:00<00:00, 750.62it/s]\n"
     ]
    }
   ],
   "source": [
    "with pm.Model() as marginal_gp_model:\n",
    "    cov_func = pm.gp.cov.ExpQuad(input_dim=1, ls=5.0)\n",
    "    \n",
    "    a11 = pm.Normal('a1', a10, sigma=0.1*a10, shape=1)\n",
    "    b11 = pm.Normal('b1', b10, sigma=0.1*b10, shape=1)\n",
    "    c11 = pm.Normal('c1', c10, sigma=0.1*c10, shape=1)\n",
    "    a21 = pm.Normal('a2', a20, sigma=0.1*a20, shape=1)\n",
    "    b21 = pm.Normal('b2', b20, sigma=0.1*b20, shape=1)\n",
    "    c21 = pm.Normal('c2', c20, sigma=0.1*c20, shape=1)\n",
    "    #tsep1 = pm.Normal('tsep', tsep0, sigma=10, shape=1)\n",
    "\n",
    "    mean_func = MeanModel(a1=a11, b1=b11, c1=c11, a2=a21, b2=b21, c2=c21)#, #tsep=tsep1)\n",
    "    gp = pm.gp.Marginal(mean_func=mean_func, cov_func=cov_func)\n",
    "    y_ = gp.marginal_likelihood(\"mag\", X=time[:, None], y=mag.values, noise=0.1)\n",
    "    mp = pm.find_MAP()"
   ]
  },
  {
   "cell_type": "code",
   "execution_count": 60,
   "metadata": {},
   "outputs": [
    {
     "name": "stderr",
     "output_type": "stream",
     "text": [
      "100%|██████████| 50/50 [00:10<00:00,  4.94it/s]\n"
     ]
    }
   ],
   "source": [
    "# new values from x=0 to x=100\n",
    "X_new = np.linspace(np.min(time), np.max(time), 400)[:, None]\n",
    "\n",
    "# add the GP conditional to the model, given the new X values\n",
    "with marginal_gp_model:\n",
    "    f_pred = gp.conditional(\"f_pred\", X_new)\n",
    "\n",
    "# To use the MAP values, you can just replace the trace with a length-1 list with `mp`\n",
    "with marginal_gp_model:\n",
    "    pred_samples = pm.sample_posterior_predictive([mp], vars=[f_pred], samples=50)"
   ]
  },
  {
   "cell_type": "code",
   "execution_count": 61,
   "metadata": {},
   "outputs": [
    {
     "name": "stderr",
     "output_type": "stream",
     "text": [
      "No handles with labels found to put in legend.\n"
     ]
    },
    {
     "data": {
      "text/plain": [
       "<matplotlib.legend.Legend at 0x13168f690>"
      ]
     },
     "execution_count": 61,
     "metadata": {},
     "output_type": "execute_result"
    },
    {
     "data": {
      "image/png": "[encoded data removed]",
      "text/plain": [
       "<Figure size 864x576 with 1 Axes>"
      ]
     },
     "metadata": {
      "needs_background": "light"
     },
     "output_type": "display_data"
    }
   ],
   "source": [
    "fig = plt.figure(figsize=(12,8)); ax = fig.gca()\n",
    "\n",
    "# plot the samples from the gp posterior with samples and shading\n",
    "from pymc3.gp.util import plot_gp_dist\n",
    "plot_gp_dist(ax, pred_samples[\"f_pred\"], X_new);\n",
    "plt.scatter(band['time'][0:400],band['magnitude'][0:400],marker='.')\n",
    "#plt.plot(, oneBand['MAG'], 'ok', ms=3, alpha=0.5, label=\"Observed data\");\n",
    "plt.xlabel(\"MJD\",fontsize=16)\n",
    "plt.ylabel(\"Magnitude\",fontsize=16)\n",
    "plt.gca().invert_yaxis()\n",
    "plt.legend()"
   ]
  }
 ],
 "metadata": {
  "kernelspec": {
   "display_name": "Python 3",
   "language": "python",
   "name": "python3"
  },
  "language_info": {
   "codemirror_mode": {
    "name": "ipython",
    "version": 3
   },
   "file_extension": ".py",
   "mimetype": "text/x-python",
   "name": "python",
   "nbconvert_exporter": "python",
   "pygments_lexer": "ipython3",
   "version": "3.7.7"
  }
 },
 "nbformat": 4,
 "nbformat_minor": 4
}
